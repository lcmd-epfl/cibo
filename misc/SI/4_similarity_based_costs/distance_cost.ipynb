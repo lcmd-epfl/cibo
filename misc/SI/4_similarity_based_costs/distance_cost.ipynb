{
 "cells": [
  {
   "cell_type": "code",
   "execution_count": 56,
   "metadata": {},
   "outputs": [],
   "source": [
    "import numpy as np\n",
    "import deepchem as dc\n",
    "import matplotlib.pyplot as plt\n",
    "from scipy.spatial import distance\n",
    "from sklearn.model_selection import train_test_split\n",
    "import copy as cp\n",
    "import time\n",
    "\n",
    "def find_min_max_distance_and_ratio(x, vectors):\n",
    "    # Calculate the squared differences between x and each vector in the list\n",
    "    squared_diffs_x = np.sum((vectors - x)**2, axis=1)\n",
    "    # Calculate the Euclidean distances between x and each vector in the list\n",
    "    distances_x = np.sqrt(squared_diffs_x)\n",
    "    # Calculate all pairwise squared differences among the vectors in the list\n",
    "    pairwise_diffs = np.sum((vectors[:, np.newaxis, :] - vectors[np.newaxis, :, :])**2, axis=-1)\n",
    "    # Calculate the pairwise Euclidean distances among the vectors in the list\n",
    "    pairwise_distances = np.sqrt(pairwise_diffs)\n",
    "    # Find the minimal distance\n",
    "    min_distance = np.min(distances_x)\n",
    "    # Find the maximal distance among all vectors, including x\n",
    "    max_distance = np.max([np.max(pairwise_distances), np.max(distances_x)])\n",
    "    # Calculate the ratio p = min_distance / max_distance\n",
    "    p = min_distance / max_distance\n",
    "    return p\n",
    "\n",
    "# Optimized function using scipy.spatial.distance.cdist\n",
    "def find_min_max_distance_and_ratio_scipy(x, vectors):\n",
    "    # Calculate the minimum distance between x and vectors using cdist\n",
    "    dist_1 = distance.cdist([x], vectors, 'euclidean')\n",
    "    min_distance = np.min(dist_1)\n",
    "    # Calculate the maximum distance among all vectors and x using cdist\n",
    "    pairwise_distances = distance.cdist(vectors, vectors, 'euclidean')\n",
    "    max_distance_vectors = np.max(pairwise_distances)\n",
    "    max_distance_x = np.max(dist_1)\n",
    "    max_distance = max(max_distance_vectors, max_distance_x)\n",
    "    # Calculate the ratio p = min_distance / max_distance\n",
    "    p = min_distance / max_distance\n",
    "\n",
    "    return p\n",
    "\n",
    "\n",
    "size = 128\n",
    "featurizer = dc.feat.CircularFingerprint(size=size)\n",
    "tasks, datasets, transformers = dc.molnet.load_sampl(featurizer=featurizer, splitter='random', transformers = [])\n",
    "train_dataset, valid_dataset, test_dataset = datasets\n",
    "SMILES_train,SMILES_valid, SMILES_test = np.array(train_dataset.ids), np.array(valid_dataset.ids), np.array(test_dataset.ids)\n",
    "SMILES = np.concatenate([SMILES_train, SMILES_valid, SMILES_test])\n",
    "X_train, X_valid, X_test = train_dataset.X, valid_dataset.X, test_dataset.X\n",
    "X = np.concatenate([X_train, X_valid, X_test])\n",
    "\n",
    "#create dummy vector x_dummy that only contains 1s\n",
    "X_dummy = np.ones((1, size))\n",
    "X_dummy_2 = X_dummy+0.5\n",
    "\n",
    "\n",
    "#select 10 random molecules as X_train, rest as X_test\n",
    "X_train, X_test, SMILES_train, SMILES_test = train_test_split(X, SMILES, train_size=200, random_state=42)\n",
    "\n",
    "#take a random molecule from X_test as x\n",
    "#select 10 random indices from the range of X_test\n",
    "costy_mols = []\n",
    "for _ in range(7):\n",
    "    ind = np.random.randint(0, len(X_test))\n",
    "    x_random = X_test[ind]\n",
    "    X_test = np.delete(X_test, ind, axis=0)\n",
    "    costy_mols.append(x_random)"
   ]
  },
  {
   "cell_type": "code",
   "execution_count": 34,
   "metadata": {},
   "outputs": [],
   "source": [
    "import numpy as np\n",
    "from scipy.spatial import distance\n",
    "\n",
    "# Generate a random X_train of shape (200, 128) for demonstration\n",
    "X_train = np.random.rand(200, 128)\n",
    "\n",
    "# Step 1: Calculate the maximum pairwise distance within X_train\n",
    "pairwise_distances = distance.cdist(X_train, X_train, 'euclidean')\n",
    "np.fill_diagonal(pairwise_distances, 0)  # Set diagonal to zero to exclude distance from a point to itself\n",
    "d_max = np.max(pairwise_distances)\n",
    "\n",
    "# Step 2: Calculate distances from each vector in X_train to the origin\n",
    "dist_to_origin = np.linalg.norm(X_train, axis=1)\n",
    "\n",
    "# Step 3: Select a vector that maximizes (d + d_max)\n",
    "selected_vector_index = np.argmax(dist_to_origin + d_max)\n",
    "selected_vector = X_train[selected_vector_index]\n",
    "\n",
    "# Step 4: Generate x_far by moving from the selected vector by d_max in some direction (e.g., along one axis)\n",
    "x_far = selected_vector + d_max * np.ones_like(selected_vector)\n"
   ]
  },
  {
   "cell_type": "code",
   "execution_count": 57,
   "metadata": {},
   "outputs": [
    {
     "name": "stdout",
     "output_type": "stream",
     "text": [
      "4.6742846965789795\n",
      "0.4976813793182373\n",
      "True\n"
     ]
    }
   ],
   "source": [
    "start = time.time()\n",
    "costs_scale_1 = np.array([find_min_max_distance_and_ratio(x, np.concatenate((X_train, X_dummy))) for x in X_test])\n",
    "end = time.time()\n",
    "print(end - start)\n",
    "\n",
    "\n",
    "start = time.time()\n",
    "costs_scale_2 = np.array([find_min_max_distance_and_ratio_scipy(x, np.concatenate((X_train, X_dummy))) for x in X_test])\n",
    "end = time.time()\n",
    "print(end - start)\n",
    "\n",
    "\n",
    "#check if the two arrays are equal for all entries\n",
    "np.array_equal(costs_scale_1, costs_scale_2)\n",
    "print(np.array_equal(costs_scale_1, costs_scale_2))"
   ]
  },
  {
   "cell_type": "code",
   "execution_count": 58,
   "metadata": {},
   "outputs": [],
   "source": [
    "import random\n",
    "\n",
    "X_train_cp = cp.deepcopy(X_train)\n",
    "X_test_cp  = cp.deepcopy(X_test)\n",
    "\n",
    "all_running_costs = []\n",
    "for x in costy_mols:\n",
    "    running_costs = []\n",
    "    #for x_test in X_test[random_indices][:10]:\n",
    "    for inds in np.arange(1, len(X_test_cp)):\n",
    "        X_train_cp = np.vstack( (X_train, X_test[:inds]) )\n",
    "        costs = find_min_max_distance_and_ratio_scipy(x, X_train_cp)\n",
    "        running_costs.append(costs)\n",
    "    all_running_costs.append(running_costs)\n",
    "all_running_costs = np.array(all_running_costs)"
   ]
  },
  {
   "cell_type": "code",
   "execution_count": 60,
   "metadata": {},
   "outputs": [
    {
     "data": {
      "image/png": "[encoded data removed]",
      "text/plain": [
       "<Figure size 640x480 with 1 Axes>"
      ]
     },
     "metadata": {},
     "output_type": "display_data"
    }
   ],
   "source": [
    "for i in range(7):\n",
    "    plt.plot(all_running_costs[i])"
   ]
  },
  {
   "cell_type": "code",
   "execution_count": 61,
   "metadata": {},
   "outputs": [
    {
     "name": "stdout",
     "output_type": "stream",
     "text": [
      "0.2773500981126146\n",
      "0.0\n",
      "0.41602514716892186\n",
      "0.6933752452815365\n"
     ]
    }
   ],
   "source": [
    "X_train_cp = cp.deepcopy(X_train)\n",
    "X_test_cp  = cp.deepcopy(X_test)\n",
    "\n",
    "\n",
    "costs = 0\n",
    "\n",
    "costs = find_min_max_distance_and_ratio_scipy(costy_mols[0], X_train_cp)\n",
    "print(costs)\n",
    "batch_price = costs\n",
    "X_train_cp = np.vstack( (X_train_cp, costy_mols[0]) )\n",
    "\n",
    "\n",
    "costs = find_min_max_distance_and_ratio_scipy(costy_mols[1], X_train_cp)\n",
    "print(costs)\n",
    "batch_price += costs\n",
    "X_train_cp = np.vstack( (X_train_cp, costy_mols[1]) )\n",
    "\n",
    "costs = find_min_max_distance_and_ratio_scipy(costy_mols[2], X_train_cp)\n",
    "print(costs)\n",
    "batch_price += costs\n",
    "X_train_cp = np.vstack( (X_train_cp, costy_mols[2]) )\n",
    "\n",
    "\n",
    "print(batch_price)"
   ]
  },
  {
   "cell_type": "code",
   "execution_count": 62,
   "metadata": {},
   "outputs": [
    {
     "data": {
      "text/plain": [
       "2.2011230545371117"
      ]
     },
     "execution_count": 62,
     "metadata": {},
     "output_type": "execute_result"
    }
   ],
   "source": [
    "import numpy as np\n",
    "import copy as cp\n",
    "import itertools\n",
    "\n",
    "def get_batch_price(X_train, costy_mols):\n",
    "    \n",
    "    X_train_cp = cp.deepcopy(X_train)\n",
    "\n",
    "    batch_price = 0  # Initialize batch price\n",
    "\n",
    "    # Assuming find_min_max_distance_and_ratio_scipy is already defined\n",
    "\n",
    "    for mol in costy_mols:\n",
    "        costs = find_min_max_distance_and_ratio_scipy(mol, X_train_cp)\n",
    "        \n",
    "        batch_price += costs  # Update the batch price\n",
    "        X_train_cp = np.vstack((X_train_cp, mol))\n",
    "\n",
    "    return batch_price\n",
    "\n",
    "get_batch_price(X_train, costy_mols)"
   ]
  },
  {
   "cell_type": "code",
   "execution_count": 63,
   "metadata": {},
   "outputs": [
    {
     "name": "stderr",
     "output_type": "stream",
     "text": [
      "100%|██████████| 5040/5040 [00:41<00:00, 120.90it/s]\n"
     ]
    }
   ],
   "source": [
    "from tqdm import tqdm\n",
    "all_permutations = list(itertools.permutations(costy_mols))\n",
    "\n",
    "prices = []\n",
    "for perm in tqdm(all_permutations):\n",
    "    prices.append(get_batch_price(X_train, perm))\n",
    "\n",
    "prices = np.array(prices)"
   ]
  },
  {
   "cell_type": "code",
   "execution_count": 64,
   "metadata": {},
   "outputs": [
    {
     "data": {
      "text/plain": [
       "2.2011230545371117"
      ]
     },
     "execution_count": 64,
     "metadata": {},
     "output_type": "execute_result"
    }
   ],
   "source": [
    "np.min(prices)"
   ]
  },
  {
   "cell_type": "code",
   "execution_count": 65,
   "metadata": {},
   "outputs": [
    {
     "data": {
      "text/plain": [
       "2.201123054537112"
      ]
     },
     "execution_count": 65,
     "metadata": {},
     "output_type": "execute_result"
    }
   ],
   "source": [
    "np.max(prices)"
   ]
  },
  {
   "cell_type": "code",
   "execution_count": 66,
   "metadata": {},
   "outputs": [
    {
     "data": {
      "text/plain": [
       "4.440892098500626e-16"
      ]
     },
     "execution_count": 66,
     "metadata": {},
     "output_type": "execute_result"
    }
   ],
   "source": [
    "np.max(prices) - np.min(prices)"
   ]
  }
 ],
 "metadata": {
  "kernelspec": {
   "display_name": "qml",
   "language": "python",
   "name": "python3"
  },
  "language_info": {
   "codemirror_mode": {
    "name": "ipython",
    "version": 3
   },
   "file_extension": ".py",
   "mimetype": "text/x-python",
   "name": "python",
   "nbconvert_exporter": "python",
   "pygments_lexer": "ipython3",
   "version": "3.8.16"
  }
 },
 "nbformat": 4,
 "nbformat_minor": 2
}
